{
 "cells": [
  {
   "cell_type": "code",
   "execution_count": 15,
   "id": "initial_id",
   "metadata": {
    "collapsed": true,
    "ExecuteTime": {
     "end_time": "2023-12-25T04:29:01.492494400Z",
     "start_time": "2023-12-25T04:29:01.443189900Z"
    }
   },
   "outputs": [],
   "source": [
    "import numpy as np"
   ]
  },
  {
   "cell_type": "code",
   "execution_count": 16,
   "outputs": [],
   "source": [
    "def sum(array, i):\n",
    "    s = 0\n",
    "    for j in range(len(array)):\n",
    "        s += array[j] ** i\n",
    "    return s"
   ],
   "metadata": {
    "collapsed": false,
    "ExecuteTime": {
     "end_time": "2023-12-25T04:29:01.507810700Z",
     "start_time": "2023-12-25T04:29:01.497657100Z"
    }
   },
   "id": "9a62b404ee4d5dc6"
  },
  {
   "cell_type": "code",
   "execution_count": 17,
   "outputs": [],
   "source": [
    "def least_squares_polynomial(matrix, degree):\n",
    "    A = np.zeros([degree + 1, degree + 2])\n",
    "    for i in range(degree + 1):\n",
    "        for j in range(degree + 2):\n",
    "            if j == degree + 1:\n",
    "                for k in range(len(matrix)):\n",
    "                    A[i, j] += matrix[k, 1] * matrix[k, 0] ** i\n",
    "            else:\n",
    "                A[i, j] = sum(matrix[:, 0], i + j)\n",
    "    return A"
   ],
   "metadata": {
    "collapsed": false,
    "ExecuteTime": {
     "end_time": "2023-12-25T04:29:01.518063700Z",
     "start_time": "2023-12-25T04:29:01.512669800Z"
    }
   },
   "id": "98ae6c3aad7836de"
  },
  {
   "cell_type": "code",
   "execution_count": 18,
   "outputs": [],
   "source": [
    "def gaussian_elimination(matrix):\n",
    "    rows, cols = matrix.shape\n",
    "\n",
    "    # 消去过程\n",
    "    for i in range(rows):\n",
    "        # 将当前列的对角元素缩放为1\n",
    "        current_row = matrix[i, :]\n",
    "        matrix[i, :] = current_row / current_row[i]\n",
    "\n",
    "        # 将其他行的当前列元素消为0\n",
    "        for j in range(i + 1, rows):\n",
    "            factor = matrix[j, i] / matrix[i, i]\n",
    "            matrix[j, :] -= factor * matrix[i, :]\n",
    "\n",
    "    # 回代过程\n",
    "    x = np.zeros(rows)\n",
    "    for i in range(rows - 1, -1, -1):\n",
    "        x[i] = matrix[i, -1] - np.dot(matrix[i, i+1:cols-1], x[i+1:cols-1])\n",
    "\n",
    "    return x"
   ],
   "metadata": {
    "collapsed": false,
    "ExecuteTime": {
     "end_time": "2023-12-25T04:29:01.522898Z",
     "start_time": "2023-12-25T04:29:01.517264200Z"
    }
   },
   "id": "82486d3741a87ff4"
  },
  {
   "cell_type": "code",
   "execution_count": 19,
   "outputs": [],
   "source": [
    "def main():\n",
    "    matrix = np.array([[0, 1.0000], [0.25, 1.2840], [0.5, 1.6487], [0.75, 2.1170], [1, 2.7183]])\n",
    "    A = least_squares_polynomial(matrix, 2)\n",
    "    x = gaussian_elimination(A)\n",
    "    for i in range(len(x)):\n",
    "        if i==0:\n",
    "            print(x[i], end=\"\")\n",
    "        else:\n",
    "            print(\"+\", x[i], \"*\", \"x^\"  + str(i), end=\"\")"
   ],
   "metadata": {
    "collapsed": false,
    "ExecuteTime": {
     "end_time": "2023-12-25T04:29:01.524709400Z",
     "start_time": "2023-12-25T04:29:01.520102900Z"
    }
   },
   "id": "158b26d3ae83660b"
  },
  {
   "cell_type": "code",
   "execution_count": 20,
   "outputs": [
    {
     "name": "stdout",
     "output_type": "stream",
     "text": [
      "1.0051371428571416+ 0.8641828571428666 * x^ 1+ 0.8436571428571337 * x^ 2"
     ]
    }
   ],
   "source": [
    "main()"
   ],
   "metadata": {
    "collapsed": false,
    "ExecuteTime": {
     "end_time": "2023-12-25T04:29:01.532343300Z",
     "start_time": "2023-12-25T04:29:01.523894700Z"
    }
   },
   "id": "9ae9f9a5106923e"
  }
 ],
 "metadata": {
  "kernelspec": {
   "display_name": "Python 3",
   "language": "python",
   "name": "python3"
  },
  "language_info": {
   "codemirror_mode": {
    "name": "ipython",
    "version": 2
   },
   "file_extension": ".py",
   "mimetype": "text/x-python",
   "name": "python",
   "nbconvert_exporter": "python",
   "pygments_lexer": "ipython2",
   "version": "2.7.6"
  }
 },
 "nbformat": 4,
 "nbformat_minor": 5
}
